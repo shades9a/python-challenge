{
 "cells": [
  {
   "cell_type": "code",
   "execution_count": null,
   "metadata": {},
   "outputs": [],
   "source": [
    "import pandas as pd\n",
    "data_file = \"Resources/election_data.csv\"\n",
    "data_file_df = pd.read_csv(data_file)\n"
   ]
  },
  {
   "cell_type": "code",
   "execution_count": null,
   "metadata": {},
   "outputs": [],
   "source": [
    "count = data_file_df[\"Voter ID\"].count()\n",
    "print(\"Total votes:\")\n",
    "count"
   ]
  },
  {
   "cell_type": "code",
   "execution_count": null,
   "metadata": {},
   "outputs": [],
   "source": [
    "total_vote = data_file_df.sum()\n",
    "total_vote"
   ]
  },
  {
   "cell_type": "code",
   "execution_count": null,
   "metadata": {},
   "outputs": [],
   "source": [
    "candidate_vote = data_file_df[\"Candidate\"]()\n",
    "if row[2] == candidate_vote:\n",
    "    data_file_df[\"Candidate\"(\"Khan\")].count\n",
    "    data_file_df[\"Candidate\"(\"Correy\")].count\n",
    "    data_file_df[\"Candidate\"(\"Li\")].count\n",
    "    data_file_df[\"Candidate\"(\"O'Tooley\")].count\n",
    "print(data_file_df.count)"
   ]
  }
 ],
 "metadata": {
  "kernelspec": {
   "display_name": "Python 3",
   "language": "python",
   "name": "python3"
  },
  "language_info": {
   "codemirror_mode": {
    "name": "ipython",
    "version": 3
   },
   "file_extension": ".py",
   "mimetype": "text/x-python",
   "name": "python",
   "nbconvert_exporter": "python",
   "pygments_lexer": "ipython3",
   "version": "3.8.5"
  }
 },
 "nbformat": 4,
 "nbformat_minor": 4
}
